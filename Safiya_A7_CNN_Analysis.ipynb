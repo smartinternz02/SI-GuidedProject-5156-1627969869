{
 "cells": [
  {
   "cell_type": "code",
   "execution_count": 1,
   "id": "63c05470",
   "metadata": {},
   "outputs": [],
   "source": [
    "from tensorflow.keras.models import Sequential\n",
    "from tensorflow.keras.layers import Dense, MaxPooling2D, Flatten, Convolution2D\n",
    "from tensorflow.keras.preprocessing.image import ImageDataGenerator"
   ]
  },
  {
   "cell_type": "code",
   "execution_count": 2,
   "id": "bfba3ecd",
   "metadata": {},
   "outputs": [],
   "source": [
    "train_datagen = ImageDataGenerator(rescale = 1./255, shear_range = 0.2, zoom_range = 0.2, horizontal_flip = True)\n",
    "test_datagen =  ImageDataGenerator(rescale = 1./255)"
   ]
  },
  {
   "cell_type": "code",
   "execution_count": 3,
   "id": "755300a6",
   "metadata": {},
   "outputs": [
    {
     "name": "stdout",
     "output_type": "stream",
     "text": [
      "Found 1425 images belonging to 5 classes.\n",
      "Found 295 images belonging to 5 classes.\n"
     ]
    }
   ],
   "source": [
    "x_train = train_datagen.flow_from_directory(r\"C:\\Users\\Safiya\\Downloads\\Anaconda Codes\\Food Dataset\\food_train_set\", target_size = (64,64), batch_size = 32, class_mode = \"categorical\")\n",
    "x_test = test_datagen.flow_from_directory(r\"C:\\Users\\Safiya\\Downloads\\Anaconda Codes\\Food Dataset\\food_test_set\", target_size = (64,64), batch_size = 32, class_mode = \"categorical\")"
   ]
  },
  {
   "cell_type": "code",
   "execution_count": 4,
   "id": "2fecbaae",
   "metadata": {},
   "outputs": [],
   "source": [
    "food = Sequential()"
   ]
  },
  {
   "cell_type": "code",
   "execution_count": 5,
   "id": "d19e1500",
   "metadata": {},
   "outputs": [],
   "source": [
    "food.add(Convolution2D(32,(3,3), input_shape = (64, 64, 3)))"
   ]
  },
  {
   "cell_type": "code",
   "execution_count": 6,
   "id": "1fa87cfb",
   "metadata": {},
   "outputs": [],
   "source": [
    "food.add(MaxPooling2D(2,2))"
   ]
  },
  {
   "cell_type": "code",
   "execution_count": 7,
   "id": "b35558a0",
   "metadata": {},
   "outputs": [],
   "source": [
    "food.add(Flatten())"
   ]
  },
  {
   "cell_type": "code",
   "execution_count": 8,
   "id": "ab789150",
   "metadata": {},
   "outputs": [],
   "source": [
    "food.add(Dense(units = 128, kernel_initializer = \"random_uniform\", activation = \"relu\"))"
   ]
  },
  {
   "cell_type": "code",
   "execution_count": 9,
   "id": "0e28389a",
   "metadata": {},
   "outputs": [],
   "source": [
    "food.add(Dense(units = 5, kernel_initializer = \"random_uniform\", activation = \"softmax\"))"
   ]
  },
  {
   "cell_type": "code",
   "execution_count": 10,
   "id": "f964d4a6",
   "metadata": {},
   "outputs": [],
   "source": [
    "food.compile(optimizer = \"rmsprop\", loss = \"categorical_crossentropy\", metrics = [\"accuracy\"])"
   ]
  },
  {
   "cell_type": "code",
   "execution_count": 11,
   "id": "baa8f60f",
   "metadata": {},
   "outputs": [
    {
     "name": "stdout",
     "output_type": "stream",
     "text": [
      "WARNING:tensorflow:From <ipython-input-11-c0e50baaabc8>:1: Model.fit_generator (from tensorflow.python.keras.engine.training) is deprecated and will be removed in a future version.\n",
      "Instructions for updating:\n",
      "Please use Model.fit, which supports generators.\n",
      "Epoch 1/30\n",
      "45/44 [==============================] - 4s 91ms/step - loss: 1.8642 - accuracy: 0.3291 - val_loss: 1.3886 - val_accuracy: 0.3085\n",
      "Epoch 2/30\n",
      "45/44 [==============================] - 4s 88ms/step - loss: 1.1532 - accuracy: 0.5165 - val_loss: 0.8947 - val_accuracy: 0.6136\n",
      "Epoch 3/30\n",
      "45/44 [==============================] - 4s 87ms/step - loss: 0.9597 - accuracy: 0.6344 - val_loss: 0.5812 - val_accuracy: 0.8034\n",
      "Epoch 4/30\n",
      "45/44 [==============================] - 4s 87ms/step - loss: 0.8083 - accuracy: 0.6919 - val_loss: 0.7642 - val_accuracy: 0.6746\n",
      "Epoch 5/30\n",
      "45/44 [==============================] - 4s 87ms/step - loss: 0.7108 - accuracy: 0.7446 - val_loss: 0.5429 - val_accuracy: 0.7729\n",
      "Epoch 6/30\n",
      "45/44 [==============================] - 4s 88ms/step - loss: 0.6326 - accuracy: 0.7656 - val_loss: 0.4120 - val_accuracy: 0.8576\n",
      "Epoch 7/30\n",
      "45/44 [==============================] - 4s 88ms/step - loss: 0.5795 - accuracy: 0.7832 - val_loss: 0.3998 - val_accuracy: 0.8339\n",
      "Epoch 8/30\n",
      "45/44 [==============================] - 4s 87ms/step - loss: 0.5411 - accuracy: 0.8105 - val_loss: 0.5122 - val_accuracy: 0.7966\n",
      "Epoch 9/30\n",
      "45/44 [==============================] - 4s 87ms/step - loss: 0.4718 - accuracy: 0.8274 - val_loss: 0.3030 - val_accuracy: 0.8644\n",
      "Epoch 10/30\n",
      "45/44 [==============================] - 4s 86ms/step - loss: 0.4642 - accuracy: 0.8288 - val_loss: 0.2544 - val_accuracy: 0.9220\n",
      "Epoch 11/30\n",
      "45/44 [==============================] - 4s 87ms/step - loss: 0.4175 - accuracy: 0.8540 - val_loss: 0.3210 - val_accuracy: 0.9017\n",
      "Epoch 12/30\n",
      "45/44 [==============================] - 4s 87ms/step - loss: 0.3980 - accuracy: 0.8596 - val_loss: 0.5285 - val_accuracy: 0.7966\n",
      "Epoch 13/30\n",
      "45/44 [==============================] - 4s 90ms/step - loss: 0.3664 - accuracy: 0.8688 - val_loss: 0.2281 - val_accuracy: 0.9186\n",
      "Epoch 14/30\n",
      "45/44 [==============================] - 4s 91ms/step - loss: 0.3115 - accuracy: 0.8884 - val_loss: 0.1796 - val_accuracy: 0.9322\n",
      "Epoch 15/30\n",
      "45/44 [==============================] - 4s 87ms/step - loss: 0.2730 - accuracy: 0.9088 - val_loss: 0.3062 - val_accuracy: 0.8780\n",
      "Epoch 16/30\n",
      "45/44 [==============================] - 4s 87ms/step - loss: 0.2777 - accuracy: 0.9004 - val_loss: 0.1121 - val_accuracy: 0.9627\n",
      "Epoch 17/30\n",
      "45/44 [==============================] - 4s 87ms/step - loss: 0.2476 - accuracy: 0.9081 - val_loss: 0.1206 - val_accuracy: 0.9559\n",
      "Epoch 18/30\n",
      "45/44 [==============================] - 4s 87ms/step - loss: 0.2354 - accuracy: 0.9207 - val_loss: 0.1428 - val_accuracy: 0.9458\n",
      "Epoch 19/30\n",
      "45/44 [==============================] - 4s 87ms/step - loss: 0.1972 - accuracy: 0.9432 - val_loss: 0.1221 - val_accuracy: 0.9559\n",
      "Epoch 20/30\n",
      "45/44 [==============================] - 4s 89ms/step - loss: 0.2141 - accuracy: 0.9228 - val_loss: 0.1418 - val_accuracy: 0.9390\n",
      "Epoch 21/30\n",
      "45/44 [==============================] - 4s 90ms/step - loss: 0.1852 - accuracy: 0.9389 - val_loss: 0.1454 - val_accuracy: 0.9627\n",
      "Epoch 22/30\n",
      "45/44 [==============================] - 4s 87ms/step - loss: 0.1562 - accuracy: 0.9425 - val_loss: 0.2185 - val_accuracy: 0.9051\n",
      "Epoch 23/30\n",
      "45/44 [==============================] - 4s 87ms/step - loss: 0.1463 - accuracy: 0.9509 - val_loss: 0.0606 - val_accuracy: 0.9831\n",
      "Epoch 24/30\n",
      "45/44 [==============================] - 4s 86ms/step - loss: 0.1483 - accuracy: 0.9453 - val_loss: 0.0624 - val_accuracy: 0.9729\n",
      "Epoch 25/30\n",
      "45/44 [==============================] - 4s 87ms/step - loss: 0.1615 - accuracy: 0.9453 - val_loss: 0.0827 - val_accuracy: 0.9797\n",
      "Epoch 26/30\n",
      "45/44 [==============================] - 4s 86ms/step - loss: 0.1117 - accuracy: 0.9614 - val_loss: 0.0466 - val_accuracy: 0.9898\n",
      "Epoch 27/30\n",
      "45/44 [==============================] - 4s 86ms/step - loss: 0.1224 - accuracy: 0.9593 - val_loss: 0.0831 - val_accuracy: 0.9797\n",
      "Epoch 28/30\n",
      "45/44 [==============================] - 4s 87ms/step - loss: 0.1238 - accuracy: 0.9586 - val_loss: 0.0255 - val_accuracy: 0.9932\n",
      "Epoch 29/30\n",
      "45/44 [==============================] - 4s 86ms/step - loss: 0.1173 - accuracy: 0.9579 - val_loss: 0.0477 - val_accuracy: 0.9797\n",
      "Epoch 30/30\n",
      "45/44 [==============================] - 4s 90ms/step - loss: 0.1036 - accuracy: 0.9621 - val_loss: 0.0471 - val_accuracy: 0.9797\n"
     ]
    },
    {
     "data": {
      "text/plain": [
       "<tensorflow.python.keras.callbacks.History at 0x19d09c0e670>"
      ]
     },
     "execution_count": 11,
     "metadata": {},
     "output_type": "execute_result"
    }
   ],
   "source": [
    "food.fit_generator(x_train, steps_per_epoch = 1425/32, epochs = 30, validation_data = x_test, validation_steps = 295/32)"
   ]
  },
  {
   "cell_type": "code",
   "execution_count": 12,
   "id": "082ff333",
   "metadata": {},
   "outputs": [],
   "source": [
    "food.save(\"food.h5\")"
   ]
  },
  {
   "cell_type": "code",
   "execution_count": 13,
   "id": "a8994594",
   "metadata": {},
   "outputs": [],
   "source": [
    "#Testing the model\n",
    "\n",
    "from tensorflow.keras.models import load_model\n",
    "from tensorflow.keras.preprocessing import image"
   ]
  },
  {
   "cell_type": "code",
   "execution_count": 14,
   "id": "d994cfd1",
   "metadata": {},
   "outputs": [],
   "source": [
    "model = load_model(\"food.h5\")"
   ]
  },
  {
   "cell_type": "code",
   "execution_count": 15,
   "id": "93b64d24",
   "metadata": {},
   "outputs": [],
   "source": [
    "img = image.load_img(\"noodles.jpg\", target_size = (64,64))"
   ]
  },
  {
   "cell_type": "code",
   "execution_count": 16,
   "id": "dd2b1c31",
   "metadata": {},
   "outputs": [
    {
     "data": {
      "text/plain": [
       "PIL.Image.Image"
      ]
     },
     "execution_count": 16,
     "metadata": {},
     "output_type": "execute_result"
    }
   ],
   "source": [
    "type(img)"
   ]
  },
  {
   "cell_type": "code",
   "execution_count": 17,
   "id": "8d6d6a3d",
   "metadata": {},
   "outputs": [
    {
     "data": {
      "text/plain": [
       "numpy.ndarray"
      ]
     },
     "execution_count": 17,
     "metadata": {},
     "output_type": "execute_result"
    }
   ],
   "source": [
    "#Converting image to array\n",
    "a = image.img_to_array(img)\n",
    "type(a)"
   ]
  },
  {
   "cell_type": "code",
   "execution_count": 18,
   "id": "be732d1d",
   "metadata": {},
   "outputs": [
    {
     "data": {
      "text/plain": [
       "(1, 64, 64, 3)"
      ]
     },
     "execution_count": 18,
     "metadata": {},
     "output_type": "execute_result"
    }
   ],
   "source": [
    "import numpy as np\n",
    "\n",
    "a = np.expand_dims(a, axis = 0)\n",
    "a.shape"
   ]
  },
  {
   "cell_type": "code",
   "execution_count": 19,
   "id": "3a21fb5f",
   "metadata": {},
   "outputs": [],
   "source": [
    "pred = model.predict(a)"
   ]
  },
  {
   "cell_type": "code",
   "execution_count": 20,
   "id": "bd725e57",
   "metadata": {},
   "outputs": [
    {
     "data": {
      "text/plain": [
       "array([[0., 0., 0., 1., 0.]], dtype=float32)"
      ]
     },
     "execution_count": 20,
     "metadata": {},
     "output_type": "execute_result"
    }
   ],
   "source": [
    "pred"
   ]
  },
  {
   "cell_type": "code",
   "execution_count": 21,
   "id": "9073a6ef",
   "metadata": {},
   "outputs": [],
   "source": [
    "# 10000 - Burger\n",
    "# 01000 - Chocolate Cake\n",
    "# 00100 - Milkshake\n",
    "# 00010 - Noodles\n",
    "# 00001 - Pizza\n",
    "\n",
    "food = [\"Burger\", \"Chocolate Cake\", \"Milkshake\", \"Noodles\", \"Pizza\"]\n",
    "prediction = food[np.argmax(pred[0])]"
   ]
  },
  {
   "cell_type": "code",
   "execution_count": 22,
   "id": "2aebe3b8",
   "metadata": {},
   "outputs": [
    {
     "data": {
      "text/plain": [
       "'Noodles'"
      ]
     },
     "execution_count": 22,
     "metadata": {},
     "output_type": "execute_result"
    }
   ],
   "source": [
    "prediction"
   ]
  },
  {
   "cell_type": "code",
   "execution_count": null,
   "id": "60f80589",
   "metadata": {},
   "outputs": [],
   "source": []
  }
 ],
 "metadata": {
  "kernelspec": {
   "display_name": "Python 3",
   "language": "python",
   "name": "python3"
  },
  "language_info": {
   "codemirror_mode": {
    "name": "ipython",
    "version": 3
   },
   "file_extension": ".py",
   "mimetype": "text/x-python",
   "name": "python",
   "nbconvert_exporter": "python",
   "pygments_lexer": "ipython3",
   "version": "3.8.8"
  }
 },
 "nbformat": 4,
 "nbformat_minor": 5
}
