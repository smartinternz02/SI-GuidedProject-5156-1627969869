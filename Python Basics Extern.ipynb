{
 "cells": [
  {
   "cell_type": "code",
   "execution_count": 1,
   "id": "d48ba6f4",
   "metadata": {},
   "outputs": [
    {
     "name": "stdout",
     "output_type": "stream",
     "text": [
      "hello\n"
     ]
    }
   ],
   "source": [
    "print (\"hello\")"
   ]
  },
  {
   "cell_type": "code",
   "execution_count": 1,
   "id": "8a824cd5",
   "metadata": {},
   "outputs": [
    {
     "data": {
      "text/plain": [
       "'C:\\\\Users\\\\Safiya\\\\Downloads\\\\Anaconda Codes'"
      ]
     },
     "execution_count": 1,
     "metadata": {},
     "output_type": "execute_result"
    }
   ],
   "source": [
    "pwd"
   ]
  },
  {
   "cell_type": "markdown",
   "id": "4a91555f",
   "metadata": {},
   "source": [
    "# Python Basics\n"
   ]
  },
  {
   "cell_type": "markdown",
   "id": "624a1c12",
   "metadata": {},
   "source": [
    "# Variables"
   ]
  },
  {
   "cell_type": "code",
   "execution_count": 2,
   "id": "5b8311eb",
   "metadata": {},
   "outputs": [],
   "source": [
    "a=20\n",
    "b=30\n",
    "c=a+b"
   ]
  },
  {
   "cell_type": "code",
   "execution_count": 3,
   "id": "8a937118",
   "metadata": {},
   "outputs": [
    {
     "data": {
      "text/plain": [
       "140729172306320"
      ]
     },
     "execution_count": 3,
     "metadata": {},
     "output_type": "execute_result"
    }
   ],
   "source": [
    "id(a)\n",
    "#mem location of a \n"
   ]
  },
  {
   "cell_type": "code",
   "execution_count": 4,
   "id": "1a5c381c",
   "metadata": {},
   "outputs": [
    {
     "data": {
      "text/plain": [
       "140729172306640"
      ]
     },
     "execution_count": 4,
     "metadata": {},
     "output_type": "execute_result"
    }
   ],
   "source": [
    "id(b)"
   ]
  },
  {
   "cell_type": "code",
   "execution_count": 5,
   "id": "512cedcf",
   "metadata": {},
   "outputs": [
    {
     "data": {
      "text/plain": [
       "140729172307280"
      ]
     },
     "execution_count": 5,
     "metadata": {},
     "output_type": "execute_result"
    }
   ],
   "source": [
    "id(c)"
   ]
  },
  {
   "cell_type": "code",
   "execution_count": 6,
   "id": "6eb4a0f3",
   "metadata": {},
   "outputs": [],
   "source": [
    "c=90\n"
   ]
  },
  {
   "cell_type": "code",
   "execution_count": 7,
   "id": "13353111",
   "metadata": {},
   "outputs": [
    {
     "data": {
      "text/plain": [
       "140729172308560"
      ]
     },
     "execution_count": 7,
     "metadata": {},
     "output_type": "execute_result"
    }
   ],
   "source": [
    "id(c)"
   ]
  },
  {
   "cell_type": "raw",
   "id": "fe28082d",
   "metadata": {},
   "source": [
    "- mem for c has changed. every value is considered as an object, so even though the nameis same, the value associated with them are stored in diff places. so prev value is not overwritten\n"
   ]
  },
  {
   "cell_type": "code",
   "execution_count": 8,
   "id": "bfa280a6",
   "metadata": {},
   "outputs": [
    {
     "name": "stdout",
     "output_type": "stream",
     "text": [
      "20\n",
      "30\n"
     ]
    }
   ],
   "source": [
    "print(a)\n",
    "print(b)"
   ]
  },
  {
   "cell_type": "code",
   "execution_count": 9,
   "id": "fd3e6234",
   "metadata": {},
   "outputs": [
    {
     "name": "stdout",
     "output_type": "stream",
     "text": [
      "20 30 90\n"
     ]
    }
   ],
   "source": [
    "print(a,b,c)"
   ]
  },
  {
   "cell_type": "markdown",
   "id": "b62c4518",
   "metadata": {},
   "source": [
    "* format specifier - datatype of element, %d - integer, %f - float, %s - string"
   ]
  },
  {
   "cell_type": "code",
   "execution_count": 11,
   "id": "50fc159a",
   "metadata": {},
   "outputs": [
    {
     "name": "stdout",
     "output_type": "stream",
     "text": [
      "the value of a is 20, value of b is 30, value of c is 90\n"
     ]
    }
   ],
   "source": [
    "print(\"the value of a is %d, value of b is %d, value of c is %d\" %(a,b,c))"
   ]
  },
  {
   "cell_type": "code",
   "execution_count": 13,
   "id": "a63c0cca",
   "metadata": {},
   "outputs": [
    {
     "name": "stdout",
     "output_type": "stream",
     "text": [
      "the value of a is 20.000000, value of b is 30.000000, value of c is 90.000000\n"
     ]
    }
   ],
   "source": [
    "print(\"the value of a is %f, value of b is %f, value of c is %f\" %(a,b,c))"
   ]
  },
  {
   "cell_type": "markdown",
   "id": "14c1b323",
   "metadata": {},
   "source": [
    "* print using format"
   ]
  },
  {
   "cell_type": "code",
   "execution_count": 12,
   "id": "8e89dc7a",
   "metadata": {},
   "outputs": [
    {
     "name": "stdout",
     "output_type": "stream",
     "text": [
      "value of a is 20, value of b is 30, value of c is 90\n"
     ]
    }
   ],
   "source": [
    "print(\"value of a is {}, value of b is {}, value of c is {}\".format(a,b,c))"
   ]
  },
  {
   "cell_type": "markdown",
   "id": "bb83a82e",
   "metadata": {},
   "source": [
    "* Variable with imaginary part is complex"
   ]
  },
  {
   "cell_type": "code",
   "execution_count": 14,
   "id": "db97540b",
   "metadata": {},
   "outputs": [],
   "source": [
    "d = 2+3j\n"
   ]
  },
  {
   "cell_type": "markdown",
   "id": "a8817268",
   "metadata": {},
   "source": [
    "* to find type of var"
   ]
  },
  {
   "cell_type": "code",
   "execution_count": 15,
   "id": "5d6196d3",
   "metadata": {},
   "outputs": [
    {
     "data": {
      "text/plain": [
       "complex"
      ]
     },
     "execution_count": 15,
     "metadata": {},
     "output_type": "execute_result"
    }
   ],
   "source": [
    "type(d)"
   ]
  },
  {
   "cell_type": "code",
   "execution_count": 16,
   "id": "e435f097",
   "metadata": {},
   "outputs": [],
   "source": [
    "a= \"hello\""
   ]
  },
  {
   "cell_type": "code",
   "execution_count": 17,
   "id": "cc52bae0",
   "metadata": {},
   "outputs": [
    {
     "data": {
      "text/plain": [
       "str"
      ]
     },
     "execution_count": 17,
     "metadata": {},
     "output_type": "execute_result"
    }
   ],
   "source": [
    "type(a)"
   ]
  },
  {
   "cell_type": "markdown",
   "id": "6e223942",
   "metadata": {},
   "source": [
    "* taking user input"
   ]
  },
  {
   "cell_type": "code",
   "execution_count": 21,
   "id": "a07c4070",
   "metadata": {},
   "outputs": [
    {
     "name": "stdout",
     "output_type": "stream",
     "text": [
      "enter the value of a20\n",
      "enter the value of b30\n"
     ]
    }
   ],
   "source": [
    "a = input(\"enter the value of a\")\n",
    "b = input(\"enter the value of b\")"
   ]
  },
  {
   "cell_type": "code",
   "execution_count": 22,
   "id": "4022d092",
   "metadata": {},
   "outputs": [
    {
     "name": "stdout",
     "output_type": "stream",
     "text": [
      "2030\n"
     ]
    }
   ],
   "source": [
    "c = a+b\n",
    "print(c)"
   ]
  },
  {
   "cell_type": "markdown",
   "id": "3a98a58f",
   "metadata": {},
   "source": [
    "* input takes the type as str so it is concatenated, so we type cast it "
   ]
  },
  {
   "cell_type": "code",
   "execution_count": 23,
   "id": "b3102d71",
   "metadata": {},
   "outputs": [
    {
     "name": "stdout",
     "output_type": "stream",
     "text": [
      "enter the value of a20\n",
      "enter the value of b30\n"
     ]
    }
   ],
   "source": [
    "a = int(input(\"enter the value of a\"))\n",
    "b = int(input(\"enter the value of b\"))"
   ]
  },
  {
   "cell_type": "code",
   "execution_count": 24,
   "id": "f0c6f158",
   "metadata": {},
   "outputs": [
    {
     "name": "stdout",
     "output_type": "stream",
     "text": [
      "50\n"
     ]
    }
   ],
   "source": [
    "c = a+b\n",
    "print(c)"
   ]
  },
  {
   "cell_type": "code",
   "execution_count": 25,
   "id": "0450b60c",
   "metadata": {},
   "outputs": [],
   "source": [
    "p = '1234'"
   ]
  },
  {
   "cell_type": "code",
   "execution_count": 26,
   "id": "53903719",
   "metadata": {},
   "outputs": [
    {
     "data": {
      "text/plain": [
       "1234"
      ]
     },
     "execution_count": 26,
     "metadata": {},
     "output_type": "execute_result"
    }
   ],
   "source": [
    "q = int(p)\n",
    "q"
   ]
  },
  {
   "cell_type": "code",
   "execution_count": 27,
   "id": "00410065",
   "metadata": {},
   "outputs": [
    {
     "data": {
      "text/plain": [
       "1234.0"
      ]
     },
     "execution_count": 27,
     "metadata": {},
     "output_type": "execute_result"
    }
   ],
   "source": [
    "s = float(q)\n",
    "s"
   ]
  },
  {
   "cell_type": "markdown",
   "id": "1faa9aaf",
   "metadata": {},
   "source": [
    "# Datatypes"
   ]
  },
  {
   "cell_type": "raw",
   "id": "8a4467ad",
   "metadata": {},
   "source": [
    "fundemental - \n",
    "    numbers - int, float, bool\n",
    "    strings\n",
    "    \n",
    "collection -\n",
    "    sequential - list, tuple\n",
    "    non-sequential - dictionary, set"
   ]
  },
  {
   "cell_type": "raw",
   "id": "1a0c0b20",
   "metadata": {},
   "source": [
    "heterogeneous - formed with diff datatypes. \n",
    "homogeneous - formed with same datatypes."
   ]
  },
  {
   "cell_type": "markdown",
   "id": "b85fd192",
   "metadata": {},
   "source": [
    "string is a combination of characters so homogeneous\n"
   ]
  },
  {
   "cell_type": "raw",
   "id": "5172e609",
   "metadata": {},
   "source": [
    "indexing - giving a number position to elements present in a datatype.\n",
    "\n",
    "- positive indexing\n",
    "    starts from beginning of the datatype and starts frm 0\n",
    "    eg - \"dye\"\n",
    "    d - 0, y-1, e-2\n",
    "    \n",
    "- negative indexing\n",
    "    starts from the end of the datatype and starts frm -1\n",
    "    eg - \"dye\"\n",
    "    e =-1, y= -2, d = -3"
   ]
  },
  {
   "cell_type": "code",
   "execution_count": 28,
   "id": "75739c5e",
   "metadata": {},
   "outputs": [],
   "source": [
    "string = \"Welcome to the jungle\""
   ]
  },
  {
   "cell_type": "code",
   "execution_count": 30,
   "id": "e4092d80",
   "metadata": {},
   "outputs": [
    {
     "data": {
      "text/plain": [
       "'e'"
      ]
     },
     "execution_count": 30,
     "metadata": {},
     "output_type": "execute_result"
    }
   ],
   "source": [
    "string[6]"
   ]
  },
  {
   "cell_type": "code",
   "execution_count": 31,
   "id": "c150270c",
   "metadata": {},
   "outputs": [
    {
     "data": {
      "text/plain": [
       "'g'"
      ]
     },
     "execution_count": 31,
     "metadata": {},
     "output_type": "execute_result"
    }
   ],
   "source": [
    "string[-3]"
   ]
  },
  {
   "cell_type": "raw",
   "id": "499882a4",
   "metadata": {},
   "source": [
    "Slicing - abruptly cutting \n",
    "\n",
    "startpoint= [7:]\n",
    "endpoint= [:9]\n",
    "starttoend= [10:20]"
   ]
  },
  {
   "cell_type": "code",
   "execution_count": 32,
   "id": "f4d9115b",
   "metadata": {},
   "outputs": [
    {
     "data": {
      "text/plain": [
       "'Welc'"
      ]
     },
     "execution_count": 32,
     "metadata": {},
     "output_type": "execute_result"
    }
   ],
   "source": [
    "string[:4]"
   ]
  },
  {
   "cell_type": "markdown",
   "id": "e227583c",
   "metadata": {},
   "source": [
    "4th letter is not shown cuz starts frm 0"
   ]
  },
  {
   "cell_type": "code",
   "execution_count": 33,
   "id": "45f240d4",
   "metadata": {},
   "outputs": [
    {
     "data": {
      "text/plain": [
       "'ome to the jungle'"
      ]
     },
     "execution_count": 33,
     "metadata": {},
     "output_type": "execute_result"
    }
   ],
   "source": [
    "string[4:]"
   ]
  },
  {
   "cell_type": "raw",
   "id": "caf07831",
   "metadata": {},
   "source": [
    "Mutable - able to update or change the content of data\n",
    "Immutable - not able to update the content of data"
   ]
  },
  {
   "cell_type": "markdown",
   "id": "0a1a6994",
   "metadata": {},
   "source": [
    "* dir(variableName) - gives the available string functions for a variable"
   ]
  },
  {
   "cell_type": "code",
   "execution_count": 1,
   "id": "6870030d",
   "metadata": {},
   "outputs": [],
   "source": [
    "string2 = \"hi there guys\""
   ]
  },
  {
   "cell_type": "code",
   "execution_count": 2,
   "id": "4b154649",
   "metadata": {},
   "outputs": [
    {
     "data": {
      "text/plain": [
       "['__add__',\n",
       " '__class__',\n",
       " '__contains__',\n",
       " '__delattr__',\n",
       " '__dir__',\n",
       " '__doc__',\n",
       " '__eq__',\n",
       " '__format__',\n",
       " '__ge__',\n",
       " '__getattribute__',\n",
       " '__getitem__',\n",
       " '__getnewargs__',\n",
       " '__gt__',\n",
       " '__hash__',\n",
       " '__init__',\n",
       " '__init_subclass__',\n",
       " '__iter__',\n",
       " '__le__',\n",
       " '__len__',\n",
       " '__lt__',\n",
       " '__mod__',\n",
       " '__mul__',\n",
       " '__ne__',\n",
       " '__new__',\n",
       " '__reduce__',\n",
       " '__reduce_ex__',\n",
       " '__repr__',\n",
       " '__rmod__',\n",
       " '__rmul__',\n",
       " '__setattr__',\n",
       " '__sizeof__',\n",
       " '__str__',\n",
       " '__subclasshook__',\n",
       " 'capitalize',\n",
       " 'casefold',\n",
       " 'center',\n",
       " 'count',\n",
       " 'encode',\n",
       " 'endswith',\n",
       " 'expandtabs',\n",
       " 'find',\n",
       " 'format',\n",
       " 'format_map',\n",
       " 'index',\n",
       " 'isalnum',\n",
       " 'isalpha',\n",
       " 'isascii',\n",
       " 'isdecimal',\n",
       " 'isdigit',\n",
       " 'isidentifier',\n",
       " 'islower',\n",
       " 'isnumeric',\n",
       " 'isprintable',\n",
       " 'isspace',\n",
       " 'istitle',\n",
       " 'isupper',\n",
       " 'join',\n",
       " 'ljust',\n",
       " 'lower',\n",
       " 'lstrip',\n",
       " 'maketrans',\n",
       " 'partition',\n",
       " 'replace',\n",
       " 'rfind',\n",
       " 'rindex',\n",
       " 'rjust',\n",
       " 'rpartition',\n",
       " 'rsplit',\n",
       " 'rstrip',\n",
       " 'split',\n",
       " 'splitlines',\n",
       " 'startswith',\n",
       " 'strip',\n",
       " 'swapcase',\n",
       " 'title',\n",
       " 'translate',\n",
       " 'upper',\n",
       " 'zfill']"
      ]
     },
     "execution_count": 2,
     "metadata": {},
     "output_type": "execute_result"
    }
   ],
   "source": [
    "dir(string2)"
   ]
  },
  {
   "cell_type": "markdown",
   "id": "98d9315d",
   "metadata": {},
   "source": [
    "* to write a function - variablename.functionname(arguments)"
   ]
  },
  {
   "cell_type": "code",
   "execution_count": 3,
   "id": "ae2578b3",
   "metadata": {},
   "outputs": [
    {
     "data": {
      "text/plain": [
       "'Hi there guys'"
      ]
     },
     "execution_count": 3,
     "metadata": {},
     "output_type": "execute_result"
    }
   ],
   "source": [
    "string2.capitalize() #capatalize first letter"
   ]
  },
  {
   "cell_type": "code",
   "execution_count": 4,
   "id": "5a4a05a7",
   "metadata": {},
   "outputs": [
    {
     "data": {
      "text/plain": [
       "'hi there guys'"
      ]
     },
     "execution_count": 4,
     "metadata": {},
     "output_type": "execute_result"
    }
   ],
   "source": [
    "string2.casefold() # converts all lower case to upper case"
   ]
  },
  {
   "cell_type": "code",
   "execution_count": 5,
   "id": "57ae56b9",
   "metadata": {},
   "outputs": [
    {
     "data": {
      "text/plain": [
       "'             hi there guys              '"
      ]
     },
     "execution_count": 5,
     "metadata": {},
     "output_type": "execute_result"
    }
   ],
   "source": [
    "string2.center(40) "
   ]
  },
  {
   "cell_type": "markdown",
   "id": "7722d273",
   "metadata": {},
   "source": [
    "* string with 40 char is created and in tht string2 is aligned in the center. \n"
   ]
  },
  {
   "cell_type": "code",
   "execution_count": 7,
   "id": "282b0247",
   "metadata": {},
   "outputs": [
    {
     "data": {
      "text/plain": [
       "'*************hi there guys**************'"
      ]
     },
     "execution_count": 7,
     "metadata": {},
     "output_type": "execute_result"
    }
   ],
   "source": [
    "string2.center(40,\"*\") "
   ]
  },
  {
   "cell_type": "code",
   "execution_count": 8,
   "id": "d4c9136b",
   "metadata": {},
   "outputs": [
    {
     "data": {
      "text/plain": [
       "2"
      ]
     },
     "execution_count": 8,
     "metadata": {},
     "output_type": "execute_result"
    }
   ],
   "source": [
    "string2.count(\"e\") #count of letter in string"
   ]
  },
  {
   "cell_type": "code",
   "execution_count": 9,
   "id": "c91c0d85",
   "metadata": {},
   "outputs": [
    {
     "data": {
      "text/plain": [
       "False"
      ]
     },
     "execution_count": 9,
     "metadata": {},
     "output_type": "execute_result"
    }
   ],
   "source": [
    "string2.endswith(\"y\") #if string ends with this char"
   ]
  },
  {
   "cell_type": "code",
   "execution_count": 10,
   "id": "71a0c264",
   "metadata": {},
   "outputs": [
    {
     "data": {
      "text/plain": [
       "True"
      ]
     },
     "execution_count": 10,
     "metadata": {},
     "output_type": "execute_result"
    }
   ],
   "source": [
    "string2.endswith(\"s\")"
   ]
  },
  {
   "cell_type": "code",
   "execution_count": 11,
   "id": "113d79a4",
   "metadata": {},
   "outputs": [
    {
     "data": {
      "text/plain": [
       "True"
      ]
     },
     "execution_count": 11,
     "metadata": {},
     "output_type": "execute_result"
    }
   ],
   "source": [
    "string2.endswith(\"ys\")"
   ]
  },
  {
   "cell_type": "code",
   "execution_count": 14,
   "id": "3407b8c1",
   "metadata": {},
   "outputs": [
    {
     "data": {
      "text/plain": [
       "['hi', 'there', 'guys']"
      ]
     },
     "execution_count": 14,
     "metadata": {},
     "output_type": "execute_result"
    }
   ],
   "source": [
    "string2.split() #splits into seperate at spaces(default) and creates list of words"
   ]
  },
  {
   "cell_type": "code",
   "execution_count": 13,
   "id": "7eaa6a2a",
   "metadata": {},
   "outputs": [
    {
     "data": {
      "text/plain": [
       "['hi th', 'r', ' guys']"
      ]
     },
     "execution_count": 13,
     "metadata": {},
     "output_type": "execute_result"
    }
   ],
   "source": [
    "string2.split(\"e\")"
   ]
  },
  {
   "cell_type": "markdown",
   "id": "cba83035",
   "metadata": {},
   "source": [
    "* Comprehensive functionality - possible only for lists"
   ]
  },
  {
   "cell_type": "code",
   "execution_count": 18,
   "id": "4666dfd3",
   "metadata": {},
   "outputs": [],
   "source": [
    "list = [1,2,\"lila\", \"food\",23.4, 2+3j]"
   ]
  },
  {
   "cell_type": "code",
   "execution_count": 19,
   "id": "c4311e37",
   "metadata": {},
   "outputs": [
    {
     "data": {
      "text/plain": [
       "'food'"
      ]
     },
     "execution_count": 19,
     "metadata": {},
     "output_type": "execute_result"
    }
   ],
   "source": [
    "list[3]"
   ]
  },
  {
   "cell_type": "code",
   "execution_count": 20,
   "id": "710209ab",
   "metadata": {},
   "outputs": [
    {
     "data": {
      "text/plain": [
       "['lila', 'food', 23.4]"
      ]
     },
     "execution_count": 20,
     "metadata": {},
     "output_type": "execute_result"
    }
   ],
   "source": [
    "list[2:5]"
   ]
  },
  {
   "cell_type": "code",
   "execution_count": 21,
   "id": "921b7166",
   "metadata": {},
   "outputs": [
    {
     "data": {
      "text/plain": [
       "['lila', 'food', 23.4, (2+3j)]"
      ]
     },
     "execution_count": 21,
     "metadata": {},
     "output_type": "execute_result"
    }
   ],
   "source": [
    "list[2:]"
   ]
  },
  {
   "cell_type": "code",
   "execution_count": 22,
   "id": "b06b33e4",
   "metadata": {},
   "outputs": [],
   "source": [
    "list[2] = 25"
   ]
  },
  {
   "cell_type": "code",
   "execution_count": 23,
   "id": "c7685629",
   "metadata": {},
   "outputs": [
    {
     "data": {
      "text/plain": [
       "[1, 2, 25, 'food', 23.4, (2+3j)]"
      ]
     },
     "execution_count": 23,
     "metadata": {},
     "output_type": "execute_result"
    }
   ],
   "source": [
    "list\n"
   ]
  },
  {
   "cell_type": "code",
   "execution_count": 24,
   "id": "c871369b",
   "metadata": {},
   "outputs": [
    {
     "data": {
      "text/plain": [
       "['__add__',\n",
       " '__class__',\n",
       " '__contains__',\n",
       " '__delattr__',\n",
       " '__delitem__',\n",
       " '__dir__',\n",
       " '__doc__',\n",
       " '__eq__',\n",
       " '__format__',\n",
       " '__ge__',\n",
       " '__getattribute__',\n",
       " '__getitem__',\n",
       " '__gt__',\n",
       " '__hash__',\n",
       " '__iadd__',\n",
       " '__imul__',\n",
       " '__init__',\n",
       " '__init_subclass__',\n",
       " '__iter__',\n",
       " '__le__',\n",
       " '__len__',\n",
       " '__lt__',\n",
       " '__mul__',\n",
       " '__ne__',\n",
       " '__new__',\n",
       " '__reduce__',\n",
       " '__reduce_ex__',\n",
       " '__repr__',\n",
       " '__reversed__',\n",
       " '__rmul__',\n",
       " '__setattr__',\n",
       " '__setitem__',\n",
       " '__sizeof__',\n",
       " '__str__',\n",
       " '__subclasshook__',\n",
       " 'append',\n",
       " 'clear',\n",
       " 'copy',\n",
       " 'count',\n",
       " 'extend',\n",
       " 'index',\n",
       " 'insert',\n",
       " 'pop',\n",
       " 'remove',\n",
       " 'reverse',\n",
       " 'sort']"
      ]
     },
     "execution_count": 24,
     "metadata": {},
     "output_type": "execute_result"
    }
   ],
   "source": [
    "dir(list)"
   ]
  },
  {
   "cell_type": "code",
   "execution_count": 25,
   "id": "7ef2ecde",
   "metadata": {},
   "outputs": [
    {
     "data": {
      "text/plain": [
       "[1, 2, 25, 'food', 23.4, (2+3j)]"
      ]
     },
     "execution_count": 25,
     "metadata": {},
     "output_type": "execute_result"
    }
   ],
   "source": [
    "list"
   ]
  },
  {
   "cell_type": "code",
   "execution_count": 26,
   "id": "eed3a528",
   "metadata": {},
   "outputs": [],
   "source": [
    "list.append([1,2,3])"
   ]
  },
  {
   "cell_type": "code",
   "execution_count": 27,
   "id": "6ec4a51e",
   "metadata": {},
   "outputs": [
    {
     "data": {
      "text/plain": [
       "[1, 2, 25, 'food', 23.4, (2+3j), [1, 2, 3]]"
      ]
     },
     "execution_count": 27,
     "metadata": {},
     "output_type": "execute_result"
    }
   ],
   "source": [
    "list"
   ]
  },
  {
   "cell_type": "markdown",
   "id": "dff7c02e",
   "metadata": {},
   "source": [
    "* can append one item at a time"
   ]
  },
  {
   "cell_type": "code",
   "execution_count": 29,
   "id": "7fa254b4",
   "metadata": {},
   "outputs": [],
   "source": [
    "list.append(99)"
   ]
  },
  {
   "cell_type": "code",
   "execution_count": 30,
   "id": "caac8e9c",
   "metadata": {},
   "outputs": [
    {
     "data": {
      "text/plain": [
       "[1, 2, 25, 'food', 23.4, (2+3j), [1, 2, 3], 99]"
      ]
     },
     "execution_count": 30,
     "metadata": {},
     "output_type": "execute_result"
    }
   ],
   "source": [
    "list\n"
   ]
  },
  {
   "cell_type": "code",
   "execution_count": 31,
   "id": "0a35288d",
   "metadata": {},
   "outputs": [],
   "source": [
    "\n",
    "list2 = list.copy()"
   ]
  },
  {
   "cell_type": "code",
   "execution_count": 32,
   "id": "1fd153e4",
   "metadata": {},
   "outputs": [
    {
     "data": {
      "text/plain": [
       "[1, 2, 25, 'food', 23.4, (2+3j), [1, 2, 3], 99]"
      ]
     },
     "execution_count": 32,
     "metadata": {},
     "output_type": "execute_result"
    }
   ],
   "source": [
    "list2"
   ]
  },
  {
   "cell_type": "code",
   "execution_count": 33,
   "id": "bce45f68",
   "metadata": {},
   "outputs": [
    {
     "data": {
      "text/plain": [
       "1"
      ]
     },
     "execution_count": 33,
     "metadata": {},
     "output_type": "execute_result"
    }
   ],
   "source": [
    "list.count(1)"
   ]
  },
  {
   "cell_type": "code",
   "execution_count": 34,
   "id": "46a2c8e8",
   "metadata": {},
   "outputs": [
    {
     "data": {
      "text/plain": [
       "1"
      ]
     },
     "execution_count": 34,
     "metadata": {},
     "output_type": "execute_result"
    }
   ],
   "source": [
    "list.count([1,2,3])"
   ]
  },
  {
   "cell_type": "code",
   "execution_count": 36,
   "id": "aeec0953",
   "metadata": {},
   "outputs": [
    {
     "data": {
      "text/plain": [
       "[1, 2, 25, 'food', 23.4, (2+3j), [1, 2, 3], 99, 7, 53, 24, 7, 53, 24]"
      ]
     },
     "execution_count": 36,
     "metadata": {},
     "output_type": "execute_result"
    }
   ],
   "source": [
    "list.extend([7,53,24]) #adds all elements into the list as seperated elements\n",
    "list"
   ]
  },
  {
   "cell_type": "raw",
   "id": "aa0e4c9a",
   "metadata": {},
   "source": [
    "Append - adds the element in arguments as a single entity\n",
    "\n",
    "Extend adds the element in arguments as seperate entities\n"
   ]
  },
  {
   "cell_type": "code",
   "execution_count": 41,
   "id": "b2cc5024",
   "metadata": {},
   "outputs": [
    {
     "data": {
      "text/plain": [
       "6"
      ]
     },
     "execution_count": 41,
     "metadata": {},
     "output_type": "execute_result"
    }
   ],
   "source": [
    "list.index([1,2,3]) #gives the index of the value in the arguments"
   ]
  },
  {
   "cell_type": "code",
   "execution_count": 43,
   "id": "8ee4f61e",
   "metadata": {},
   "outputs": [
    {
     "data": {
      "text/plain": [
       "[1,\n",
       " 2,\n",
       " 'smart',\n",
       " 'smart',\n",
       " 25,\n",
       " 'food',\n",
       " 23.4,\n",
       " (2+3j),\n",
       " [1, 2, 3],\n",
       " 99,\n",
       " 7,\n",
       " 53,\n",
       " 24,\n",
       " 7,\n",
       " 53,\n",
       " 24]"
      ]
     },
     "execution_count": 43,
     "metadata": {},
     "output_type": "execute_result"
    }
   ],
   "source": [
    "list.insert(2, \"smart\")\n",
    "list"
   ]
  },
  {
   "cell_type": "code",
   "execution_count": 45,
   "id": "aadb4a78",
   "metadata": {},
   "outputs": [
    {
     "data": {
      "text/plain": [
       "[1,\n",
       " 2,\n",
       " 'smart',\n",
       " 'smart',\n",
       " 25,\n",
       " 'food',\n",
       " 23.4,\n",
       " (2+3j),\n",
       " [1, 2, 3],\n",
       " 99,\n",
       " 7,\n",
       " 53,\n",
       " 24,\n",
       " 7,\n",
       " 53,\n",
       " 24]"
      ]
     },
     "execution_count": 45,
     "metadata": {},
     "output_type": "execute_result"
    }
   ],
   "source": [
    "list"
   ]
  },
  {
   "cell_type": "code",
   "execution_count": 44,
   "id": "06a72cc8",
   "metadata": {},
   "outputs": [
    {
     "data": {
      "text/plain": [
       "[1,\n",
       " 2,\n",
       " 'smart',\n",
       " 'smart',\n",
       " 25,\n",
       " 'food',\n",
       " 23.4,\n",
       " (2+3j),\n",
       " [1, 2, 3],\n",
       " 99,\n",
       " 7,\n",
       " 53,\n",
       " 24,\n",
       " 7,\n",
       " 53,\n",
       " 24]"
      ]
     },
     "execution_count": 44,
     "metadata": {},
     "output_type": "execute_result"
    }
   ],
   "source": [
    "list\n"
   ]
  },
  {
   "cell_type": "code",
   "execution_count": 46,
   "id": "7f4b695d",
   "metadata": {},
   "outputs": [
    {
     "data": {
      "text/plain": [
       "24"
      ]
     },
     "execution_count": 46,
     "metadata": {},
     "output_type": "execute_result"
    }
   ],
   "source": [
    "list.pop()"
   ]
  },
  {
   "cell_type": "code",
   "execution_count": 47,
   "id": "d0fb0686",
   "metadata": {},
   "outputs": [],
   "source": [
    "list.remove(\"smart\")#removes specified element once"
   ]
  },
  {
   "cell_type": "code",
   "execution_count": 48,
   "id": "3ffcfafb",
   "metadata": {},
   "outputs": [
    {
     "data": {
      "text/plain": [
       "[1, 2, 'smart', 25, 'food', 23.4, (2+3j), [1, 2, 3], 99, 7, 53, 24, 7, 53]"
      ]
     },
     "execution_count": 48,
     "metadata": {},
     "output_type": "execute_result"
    }
   ],
   "source": [
    "list"
   ]
  },
  {
   "cell_type": "code",
   "execution_count": 49,
   "id": "bc6a7d2a",
   "metadata": {},
   "outputs": [
    {
     "data": {
      "text/plain": [
       "[53, 7, 24, 53, 7, 99, [1, 2, 3], (2+3j), 23.4, 'food', 25, 'smart', 2, 1]"
      ]
     },
     "execution_count": 49,
     "metadata": {},
     "output_type": "execute_result"
    }
   ],
   "source": [
    "list.reverse()\n",
    "list"
   ]
  },
  {
   "cell_type": "code",
   "execution_count": 50,
   "id": "046cbaf5",
   "metadata": {},
   "outputs": [],
   "source": [
    "# list.sort()  only for numerical lists"
   ]
  },
  {
   "cell_type": "code",
   "execution_count": 53,
   "id": "cba3ae30",
   "metadata": {},
   "outputs": [
    {
     "data": {
      "text/plain": [
       "[1, 3, 5, 6, 7, 8, 23]"
      ]
     },
     "execution_count": 53,
     "metadata": {},
     "output_type": "execute_result"
    }
   ],
   "source": [
    "arr = [1,5,3,7,6,8,23]\n",
    "arr.sort()\n",
    "arr"
   ]
  },
  {
   "cell_type": "markdown",
   "id": "7a4f8c0f",
   "metadata": {},
   "source": [
    "* Comprehensive technique - creating list with loop and conditions."
   ]
  },
  {
   "cell_type": "code",
   "execution_count": 55,
   "id": "a198297c",
   "metadata": {},
   "outputs": [
    {
     "name": "stdout",
     "output_type": "stream",
     "text": [
      "[0, 2, 4, 6, 8, 10, 12, 14, 16, 18, 20, 22, 24, 26, 28, 30, 32, 34, 36, 38, 40, 42, 44, 46, 48, 50, 52, 54, 56, 58, 60, 62, 64, 66, 68, 70, 72, 74, 76, 78, 80, 82, 84, 86, 88, 90, 92, 94, 96, 98, 100, 102, 104, 106, 108, 110, 112, 114, 116, 118, 120, 122, 124, 126, 128, 130, 132, 134, 136, 138, 140, 142, 144, 146, 148, 150, 152, 154, 156, 158, 160, 162, 164, 166, 168, 170, 172, 174, 176, 178, 180, 182, 184, 186, 188, 190, 192, 194, 196, 198, 200, 202, 204, 206, 208, 210, 212, 214, 216, 218, 220, 222, 224, 226, 228, 230, 232, 234, 236, 238, 240, 242, 244, 246, 248, 250, 252, 254, 256, 258, 260, 262, 264, 266, 268, 270, 272, 274, 276, 278, 280, 282, 284, 286, 288, 290, 292, 294, 296, 298, 300, 302, 304, 306, 308, 310, 312, 314, 316, 318, 320, 322, 324, 326, 328, 330, 332, 334, 336, 338, 340, 342, 344, 346, 348, 350, 352, 354, 356, 358, 360, 362, 364, 366, 368, 370, 372, 374, 376, 378, 380, 382, 384, 386, 388, 390, 392, 394, 396, 398, 400, 402, 404, 406, 408, 410, 412, 414, 416, 418, 420, 422, 424, 426, 428, 430, 432, 434, 436, 438, 440, 442, 444, 446, 448, 450, 452, 454, 456, 458, 460, 462, 464, 466, 468, 470, 472, 474, 476, 478, 480, 482, 484, 486, 488, 490, 492, 494, 496, 498, 500, 502, 504, 506, 508, 510, 512, 514, 516, 518, 520, 522, 524, 526, 528, 530, 532, 534, 536, 538, 540, 542, 544, 546, 548, 550, 552, 554, 556, 558, 560, 562, 564, 566, 568, 570, 572, 574, 576, 578, 580, 582, 584, 586, 588, 590, 592, 594, 596, 598, 600, 602, 604, 606, 608, 610, 612, 614, 616, 618, 620, 622, 624, 626, 628, 630, 632, 634, 636, 638, 640, 642, 644, 646, 648, 650, 652, 654, 656, 658, 660, 662, 664, 666, 668, 670, 672, 674, 676, 678, 680, 682, 684, 686, 688, 690, 692, 694, 696, 698, 700, 702, 704, 706, 708, 710, 712, 714, 716, 718, 720, 722, 724, 726, 728, 730, 732, 734, 736, 738, 740, 742, 744, 746, 748, 750, 752, 754, 756, 758, 760, 762, 764, 766, 768, 770, 772, 774, 776, 778, 780, 782, 784, 786, 788, 790, 792, 794, 796, 798, 800, 802, 804, 806, 808, 810, 812, 814, 816, 818, 820, 822, 824, 826, 828, 830, 832, 834, 836, 838, 840, 842, 844, 846, 848, 850, 852, 854, 856, 858, 860, 862, 864, 866, 868, 870, 872, 874, 876, 878, 880, 882, 884, 886, 888, 890, 892, 894, 896, 898, 900, 902, 904, 906, 908, 910, 912, 914, 916, 918, 920, 922, 924, 926, 928, 930, 932, 934, 936, 938, 940, 942, 944, 946, 948, 950, 952, 954, 956, 958, 960, 962, 964, 966, 968, 970, 972, 974, 976, 978, 980, 982, 984, 986, 988, 990, 992, 994, 996, 998]\n"
     ]
    }
   ],
   "source": [
    "#Syntax = [itemtobeadded forloop condition]\n",
    "\n",
    "com=[i for i in range(1000) if(i%2==0)]\n",
    "print(com)"
   ]
  },
  {
   "cell_type": "raw",
   "id": "557cff32",
   "metadata": {},
   "source": [
    "Task : Create a list of employees with name, age, salary and designation, \n",
    "    then add qualifications of employee using list func\n",
    "    change name from one name to another\n",
    "    delete age"
   ]
  },
  {
   "cell_type": "code",
   "execution_count": 56,
   "id": "706a05ec",
   "metadata": {},
   "outputs": [
    {
     "name": "stdout",
     "output_type": "stream",
     "text": [
      "[['John Smith', 23, 10000, 'Manager'], ['Milo', 35, 20000, 'Accountant'], ['Reena R', 25, 200000, 'Engineer']]\n"
     ]
    }
   ],
   "source": [
    "employee= [[\"John Smith\", 23, 10000, \"Manager\"],[\"Milo\", 35, 20000,\"Accountant\"],[\"Reena R\", 25, 200000, \"Engineer\"]]\n",
    "print(employee)"
   ]
  },
  {
   "cell_type": "code",
   "execution_count": 57,
   "id": "90cdca5f",
   "metadata": {},
   "outputs": [
    {
     "name": "stdout",
     "output_type": "stream",
     "text": [
      "['John Smith', 23, 10000, 'Engineer']\n"
     ]
    }
   ],
   "source": [
    "employee= [\"John Smith\", 23, 10000, \"Engineer\"]\n",
    "print(employee)"
   ]
  },
  {
   "cell_type": "code",
   "execution_count": 58,
   "id": "d0a9e321",
   "metadata": {},
   "outputs": [
    {
     "name": "stdout",
     "output_type": "stream",
     "text": [
      "['John Smith', 23, 10000, 'Engineer', 'BTech EE', 'MTech EE']\n"
     ]
    }
   ],
   "source": [
    "employee.extend([\"BTech EE\", \"MTech EE\"])\n",
    "print(employee)"
   ]
  },
  {
   "cell_type": "code",
   "execution_count": 59,
   "id": "e1ec37f1",
   "metadata": {},
   "outputs": [
    {
     "data": {
      "text/plain": [
       "['Micheal Angelo', 23, 10000, 'Engineer', 'BTech EE', 'MTech EE']"
      ]
     },
     "execution_count": 59,
     "metadata": {},
     "output_type": "execute_result"
    }
   ],
   "source": [
    "employee[0] = \"Micheal Angelo\"\n",
    "employee"
   ]
  },
  {
   "cell_type": "code",
   "execution_count": 63,
   "id": "87c5864a",
   "metadata": {},
   "outputs": [],
   "source": [
    "employee = ['Micheal Angelo', 23, 10000, 'Engineer', 'BTech EE', 'MTech EE']\n"
   ]
  },
  {
   "cell_type": "code",
   "execution_count": 64,
   "id": "fb8c4290",
   "metadata": {},
   "outputs": [
    {
     "data": {
      "text/plain": [
       "['Micheal Angelo', 10000, 'Engineer', 'BTech EE', 'MTech EE']"
      ]
     },
     "execution_count": 64,
     "metadata": {},
     "output_type": "execute_result"
    }
   ],
   "source": [
    "employee.remove(employee[1])\n",
    "employee"
   ]
  },
  {
   "cell_type": "code",
   "execution_count": 65,
   "id": "b80518f5",
   "metadata": {},
   "outputs": [],
   "source": [
    "#tuple is hetero, immutable"
   ]
  },
  {
   "cell_type": "code",
   "execution_count": 66,
   "id": "f71c8f23",
   "metadata": {},
   "outputs": [],
   "source": [
    "tup = (1,2,\"hero\")"
   ]
  },
  {
   "cell_type": "code",
   "execution_count": 67,
   "id": "b89510e7",
   "metadata": {},
   "outputs": [
    {
     "data": {
      "text/plain": [
       "'hero'"
      ]
     },
     "execution_count": 67,
     "metadata": {},
     "output_type": "execute_result"
    }
   ],
   "source": [
    "tup[2]"
   ]
  },
  {
   "cell_type": "code",
   "execution_count": 68,
   "id": "4cad9d83",
   "metadata": {},
   "outputs": [],
   "source": [
    "#not comprehensive"
   ]
  },
  {
   "cell_type": "code",
   "execution_count": 69,
   "id": "b865ec45",
   "metadata": {},
   "outputs": [
    {
     "data": {
      "text/plain": [
       "(1,)"
      ]
     },
     "execution_count": 69,
     "metadata": {},
     "output_type": "execute_result"
    }
   ],
   "source": [
    "tup[:1]"
   ]
  },
  {
   "cell_type": "markdown",
   "id": "8b18c20c",
   "metadata": {},
   "source": [
    "* dictionary does not have indexing and is unordered, it has key-value pairs"
   ]
  },
  {
   "cell_type": "code",
   "execution_count": 70,
   "id": "d64cc177",
   "metadata": {},
   "outputs": [],
   "source": [
    "dict = {\"name\":\"kara\", \"age\":24, \"study\":\"MTech\"}"
   ]
  },
  {
   "cell_type": "markdown",
   "id": "e753c8d3",
   "metadata": {},
   "source": [
    "* dict[0] is not possible. "
   ]
  },
  {
   "cell_type": "markdown",
   "id": "f8366501",
   "metadata": {},
   "source": [
    "* can grab elements with keys."
   ]
  },
  {
   "cell_type": "code",
   "execution_count": 71,
   "id": "0deb4a61",
   "metadata": {},
   "outputs": [
    {
     "data": {
      "text/plain": [
       "24"
      ]
     },
     "execution_count": 71,
     "metadata": {},
     "output_type": "execute_result"
    }
   ],
   "source": [
    "dict[\"age\"]"
   ]
  },
  {
   "cell_type": "code",
   "execution_count": 72,
   "id": "c3c261b1",
   "metadata": {},
   "outputs": [
    {
     "data": {
      "text/plain": [
       "{'name': 'Sierra', 'age': 24, 'study': 'MTech'}"
      ]
     },
     "execution_count": 72,
     "metadata": {},
     "output_type": "execute_result"
    }
   ],
   "source": [
    "dict[\"name\"] = \"Sierra\"\n",
    "dict"
   ]
  },
  {
   "cell_type": "markdown",
   "id": "c4bd129f",
   "metadata": {},
   "source": [
    "* keys are immutable and values are mutable"
   ]
  },
  {
   "cell_type": "markdown",
   "id": "c7963be9",
   "metadata": {},
   "source": [
    "* keys must be unique"
   ]
  },
  {
   "cell_type": "code",
   "execution_count": 73,
   "id": "31d8188f",
   "metadata": {},
   "outputs": [],
   "source": [
    "dict = {'name': 'Sierra', 'age': 24, 'study': 'MTech', 'name': 'Fiona', \"MTech\":\"3 yrs\"}"
   ]
  },
  {
   "cell_type": "code",
   "execution_count": 74,
   "id": "38e6a052",
   "metadata": {},
   "outputs": [
    {
     "data": {
      "text/plain": [
       "{'name': 'Fiona', 'age': 24, 'study': 'MTech', 'MTech': '3 yrs'}"
      ]
     },
     "execution_count": 74,
     "metadata": {},
     "output_type": "execute_result"
    }
   ],
   "source": [
    "dict"
   ]
  },
  {
   "cell_type": "markdown",
   "id": "4afb1f66",
   "metadata": {},
   "source": [
    "* here 'name' is not repeated and the value is overwritten, but can put Mtech as a key."
   ]
  },
  {
   "cell_type": "code",
   "execution_count": 78,
   "id": "6559c90b",
   "metadata": {},
   "outputs": [],
   "source": [
    "dict2 = dict.copy()"
   ]
  },
  {
   "cell_type": "code",
   "execution_count": 79,
   "id": "c401fea6",
   "metadata": {},
   "outputs": [
    {
     "data": {
      "text/plain": [
       "{'name': 'Fiona', 'age': 24, 'study': 'MTech', 'MTech': '3 yrs'}"
      ]
     },
     "execution_count": 79,
     "metadata": {},
     "output_type": "execute_result"
    }
   ],
   "source": [
    "dict2"
   ]
  },
  {
   "cell_type": "code",
   "execution_count": 80,
   "id": "993ec63e",
   "metadata": {},
   "outputs": [
    {
     "data": {
      "text/plain": [
       "{'key1': (23, 53, 47), 'key2': (23, 53, 47), 'key3': (23, 53, 47)}"
      ]
     },
     "execution_count": 80,
     "metadata": {},
     "output_type": "execute_result"
    }
   ],
   "source": [
    "key = (\"key1\",\"key2\",\"key3\")\n",
    "value = (23,53,47)\n",
    "dict = dict.fromkeys(key,value)\n",
    "dict"
   ]
  },
  {
   "cell_type": "code",
   "execution_count": 81,
   "id": "8bb2e7ed",
   "metadata": {},
   "outputs": [
    {
     "data": {
      "text/plain": [
       "{'key1': None, 'key2': None, 'key3': None}"
      ]
     },
     "execution_count": 81,
     "metadata": {},
     "output_type": "execute_result"
    }
   ],
   "source": [
    "dict = dict.fromkeys(key)\n",
    "dict"
   ]
  },
  {
   "cell_type": "code",
   "execution_count": 82,
   "id": "28efa4f1",
   "metadata": {},
   "outputs": [
    {
     "data": {
      "text/plain": [
       "{'name': 'Fiona', 'age': 24, 'study': 'MTech'}"
      ]
     },
     "execution_count": 82,
     "metadata": {},
     "output_type": "execute_result"
    }
   ],
   "source": [
    "dict = {'name': 'Fiona', 'age': 24, 'study': 'MTech'}\n",
    "dict"
   ]
  },
  {
   "cell_type": "code",
   "execution_count": 83,
   "id": "5e7287c6",
   "metadata": {},
   "outputs": [],
   "source": [
    "p = dict.get(\"name\")"
   ]
  },
  {
   "cell_type": "code",
   "execution_count": 84,
   "id": "9df24bf0",
   "metadata": {},
   "outputs": [
    {
     "data": {
      "text/plain": [
       "'Fiona'"
      ]
     },
     "execution_count": 84,
     "metadata": {},
     "output_type": "execute_result"
    }
   ],
   "source": [
    "p"
   ]
  },
  {
   "cell_type": "code",
   "execution_count": 85,
   "id": "bf03e1fc",
   "metadata": {},
   "outputs": [],
   "source": [
    "x = dict.get(\"place\", \"DXB\")"
   ]
  },
  {
   "cell_type": "code",
   "execution_count": 86,
   "id": "e306885d",
   "metadata": {},
   "outputs": [
    {
     "data": {
      "text/plain": [
       "'DXB'"
      ]
     },
     "execution_count": 86,
     "metadata": {},
     "output_type": "execute_result"
    }
   ],
   "source": [
    "x"
   ]
  },
  {
   "cell_type": "code",
   "execution_count": 87,
   "id": "9d8625a8",
   "metadata": {},
   "outputs": [
    {
     "data": {
      "text/plain": [
       "dict_items([('name', 'Fiona'), ('age', 24), ('study', 'MTech')])"
      ]
     },
     "execution_count": 87,
     "metadata": {},
     "output_type": "execute_result"
    }
   ],
   "source": [
    "dict.items()\n"
   ]
  },
  {
   "cell_type": "code",
   "execution_count": 88,
   "id": "6e6d12c8",
   "metadata": {},
   "outputs": [
    {
     "data": {
      "text/plain": [
       "dict_keys(['name', 'age', 'study'])"
      ]
     },
     "execution_count": 88,
     "metadata": {},
     "output_type": "execute_result"
    }
   ],
   "source": [
    "dict.keys()"
   ]
  },
  {
   "cell_type": "code",
   "execution_count": 89,
   "id": "ccb5685c",
   "metadata": {},
   "outputs": [
    {
     "data": {
      "text/plain": [
       "dict_values(['Fiona', 24, 'MTech'])"
      ]
     },
     "execution_count": 89,
     "metadata": {},
     "output_type": "execute_result"
    }
   ],
   "source": [
    "dict.values()"
   ]
  },
  {
   "cell_type": "code",
   "execution_count": 90,
   "id": "2fc44136",
   "metadata": {},
   "outputs": [
    {
     "data": {
      "text/plain": [
       "'Fiona'"
      ]
     },
     "execution_count": 90,
     "metadata": {},
     "output_type": "execute_result"
    }
   ],
   "source": [
    "dict.pop(\"name\") #must specify the key, its like remove in list, doesnt remove last element"
   ]
  },
  {
   "cell_type": "code",
   "execution_count": 91,
   "id": "5c491e30",
   "metadata": {},
   "outputs": [
    {
     "data": {
      "text/plain": [
       "{'age': 24, 'study': 'MTech'}"
      ]
     },
     "execution_count": 91,
     "metadata": {},
     "output_type": "execute_result"
    }
   ],
   "source": [
    "dict"
   ]
  },
  {
   "cell_type": "code",
   "execution_count": 92,
   "id": "9cf77dc4",
   "metadata": {},
   "outputs": [
    {
     "data": {
      "text/plain": [
       "('study', 'MTech')"
      ]
     },
     "execution_count": 92,
     "metadata": {},
     "output_type": "execute_result"
    }
   ],
   "source": [
    "dict.popitem() #removes last entered key-value pair"
   ]
  },
  {
   "cell_type": "markdown",
   "id": "58e28038",
   "metadata": {},
   "source": [
    "* Set is homogeneous and unordered. can be list of inters, strings, tuples or list. "
   ]
  },
  {
   "cell_type": "code",
   "execution_count": 94,
   "id": "7e7d8566",
   "metadata": {},
   "outputs": [
    {
     "data": {
      "text/plain": [
       "{'ariana', 'iris', 'nathan', 'riya', 'sav', 'talia'}"
      ]
     },
     "execution_count": 94,
     "metadata": {},
     "output_type": "execute_result"
    }
   ],
   "source": [
    "people = {\"iris\",\"talia\",\"ariana\"}\n",
    "vampy = {\"sav\", \"riya\",\"nathan\"}\n",
    "popu = people.union(vampy)\n",
    "popu"
   ]
  },
  {
   "cell_type": "code",
   "execution_count": 95,
   "id": "451dcd4d",
   "metadata": {},
   "outputs": [
    {
     "data": {
      "text/plain": [
       "{3, 4, 5}"
      ]
     },
     "execution_count": 95,
     "metadata": {},
     "output_type": "execute_result"
    }
   ],
   "source": [
    "set1 = {1,2,3,4,5}\n",
    "set2 = {3,4,5,8}\n",
    "set3 = set1.intersection(set2)\n",
    "set3"
   ]
  },
  {
   "cell_type": "code",
   "execution_count": 96,
   "id": "90698f6a",
   "metadata": {},
   "outputs": [
    {
     "data": {
      "text/plain": [
       "{1, 2}"
      ]
     },
     "execution_count": 96,
     "metadata": {},
     "output_type": "execute_result"
    }
   ],
   "source": [
    "set2 = {3,4,5,6,7}\n",
    "set3 = set1.difference(set2)\n",
    "set3"
   ]
  },
  {
   "cell_type": "code",
   "execution_count": 97,
   "id": "4a2dc698",
   "metadata": {},
   "outputs": [
    {
     "data": {
      "text/plain": [
       "{6, 7}"
      ]
     },
     "execution_count": 97,
     "metadata": {},
     "output_type": "execute_result"
    }
   ],
   "source": [
    "set3 = set2.difference(set1)\n",
    "set3"
   ]
  },
  {
   "cell_type": "code",
   "execution_count": 98,
   "id": "ec87f9ba",
   "metadata": {},
   "outputs": [
    {
     "data": {
      "text/plain": [
       "{1, 2, 3, 10}"
      ]
     },
     "execution_count": 98,
     "metadata": {},
     "output_type": "execute_result"
    }
   ],
   "source": [
    "set = {1,2,3}\n",
    "set.add(10)\n",
    "set"
   ]
  },
  {
   "cell_type": "markdown",
   "id": "c19f588c",
   "metadata": {},
   "source": [
    "# Conditional Statements"
   ]
  },
  {
   "cell_type": "raw",
   "id": "16c0a4f9",
   "metadata": {},
   "source": [
    "1. if \n",
    "2. if-else\n",
    "3. elif\n",
    "4. nested\n",
    "5. switch"
   ]
  },
  {
   "cell_type": "raw",
   "id": "63637e2c",
   "metadata": {},
   "source": [
    "1. Syntax = if (expression):\n",
    "             statment\n",
    "             \n",
    "indentation - tab space - 6 spaces\n",
    "        "
   ]
  },
  {
   "cell_type": "code",
   "execution_count": 1,
   "id": "b6236e24",
   "metadata": {},
   "outputs": [
    {
     "name": "stdout",
     "output_type": "stream",
     "text": [
      "Enter your marks : 60\n",
      "60\n",
      "passed\n"
     ]
    }
   ],
   "source": [
    "a = int(input(\"Enter your marks : \"))\n",
    "print(a)\n",
    "if (a>35):\n",
    "    print(\"passed\")"
   ]
  },
  {
   "cell_type": "raw",
   "id": "a0e1a4e2",
   "metadata": {},
   "source": [
    "2. Syntax = if (condition):\n",
    "                statement\n",
    "            else:\n",
    "                statement\n",
    "                \n",
    "if and else in same indentation"
   ]
  },
  {
   "cell_type": "code",
   "execution_count": 2,
   "id": "b361ad52",
   "metadata": {},
   "outputs": [
    {
     "name": "stdout",
     "output_type": "stream",
     "text": [
      "Enter your marks : 20\n",
      "20\n",
      "fail\n"
     ]
    }
   ],
   "source": [
    "a = int(input(\"Enter your marks : \"))\n",
    "print(a)\n",
    "if (a>35):\n",
    "    print(\"passed\")\n",
    "else :\n",
    "    print(\"fail\")\n",
    "    "
   ]
  },
  {
   "cell_type": "raw",
   "id": "f018eef1",
   "metadata": {},
   "source": [
    "3. elif for more conditons\n",
    "  Syntax = if (condition):\n",
    "                statement\n",
    "            elif(condition):\n",
    "                statment\n",
    "            else:\n",
    "                statement"
   ]
  },
  {
   "cell_type": "code",
   "execution_count": 4,
   "id": "6cf5b273",
   "metadata": {},
   "outputs": [
    {
     "name": "stdout",
     "output_type": "stream",
     "text": [
      "Enter your marks : -1\n",
      "-1\n",
      "Not Valid\n"
     ]
    }
   ],
   "source": [
    "a = int(input(\"Enter your marks : \"))\n",
    "print(a)\n",
    "if (a>0 and a<35):\n",
    "    print(\"failed\")\n",
    "elif(a>35 and a<65):\n",
    "    print(\"third class\")\n",
    "elif(a>65 and a<75):\n",
    "    print(\"second class\")\n",
    "elif(a>75 and a<85):\n",
    "    print(\"first class\")\n",
    "elif(a>85 and a<100):\n",
    "    print(\"Distinction\")\n",
    "else :\n",
    "    print(\"Not Valid\")"
   ]
  },
  {
   "cell_type": "raw",
   "id": "20b7c5fa",
   "metadata": {},
   "source": [
    "4. Syntax = if (condition):\n",
    "                statement\n",
    "                if (condition):\n",
    "                    statement\n",
    "                else:\n",
    "                    statement\n",
    "            \n",
    "            else:\n",
    "                statement\n"
   ]
  },
  {
   "cell_type": "code",
   "execution_count": 7,
   "id": "05ad9c9c",
   "metadata": {},
   "outputs": [
    {
     "name": "stdout",
     "output_type": "stream",
     "text": [
      "Enter your marks : 99\n",
      "99\n",
      "Distinction\n",
      "Well Done!\n"
     ]
    }
   ],
   "source": [
    "a = int(input(\"Enter your marks : \"))\n",
    "print(a)\n",
    "if (a>0 and a<35):\n",
    "    print(\"failed\")\n",
    "elif(a>35 and a<65):\n",
    "    print(\"third class\")\n",
    "elif(a>65 and a<75):\n",
    "    print(\"second class\")\n",
    "elif(a>75 and a<85):\n",
    "    print(\"first class\")\n",
    "elif(a>85 and a<100):\n",
    "    print(\"Distinction\")\n",
    "    if(a==99):\n",
    "        print(\"Well Done!\")\n",
    "else :\n",
    "    print(\"Not Valid\")"
   ]
  },
  {
   "cell_type": "raw",
   "id": "561e98d0",
   "metadata": {},
   "source": [
    "5. Switch-case\n",
    "works like dictionary\n",
    "not like c++ switch case"
   ]
  },
  {
   "cell_type": "code",
   "execution_count": 8,
   "id": "414aa6f0",
   "metadata": {},
   "outputs": [
    {
     "name": "stdout",
     "output_type": "stream",
     "text": [
      "sun\n"
     ]
    }
   ],
   "source": [
    "days ={\n",
    "    0:\"sun\",\n",
    "    1:\"mon\",\n",
    "    2:\"tue\",\n",
    "    3:\"wed\",\n",
    "    4:\"thrus\",\n",
    "}\n",
    "#these are the cases\n",
    "\n",
    "print(days.get(0,'bad day'))"
   ]
  },
  {
   "cell_type": "code",
   "execution_count": 9,
   "id": "b9ed0051",
   "metadata": {},
   "outputs": [
    {
     "name": "stdout",
     "output_type": "stream",
     "text": [
      "bad day\n"
     ]
    }
   ],
   "source": [
    "print(days.get(20,'bad day')) #bad day is the default value"
   ]
  },
  {
   "cell_type": "code",
   "execution_count": 10,
   "id": "cf7c7550",
   "metadata": {},
   "outputs": [
    {
     "data": {
      "text/plain": [
       "{0: 'sun', 1: 'mon', 2: 'tue', 3: 'wed', 4: 'thrus'}"
      ]
     },
     "execution_count": 10,
     "metadata": {},
     "output_type": "execute_result"
    }
   ],
   "source": [
    "days\n"
   ]
  },
  {
   "cell_type": "raw",
   "id": "25742bd0",
   "metadata": {},
   "source": [
    "Task: take three user inputs:\n",
    "        two integer value\n",
    "        one character like +,-,*,/,%\n",
    "based on the character, print the arithmatics operation output\n",
    "        "
   ]
  },
  {
   "cell_type": "code",
   "execution_count": 11,
   "id": "9e75982e",
   "metadata": {},
   "outputs": [
    {
     "name": "stdout",
     "output_type": "stream",
     "text": [
      "Enter the first number : 8\n",
      "Enter the second number : 4\n",
      "Enter the operation to perform : +\n",
      "8 + 4  =  12\n"
     ]
    }
   ],
   "source": [
    "num1 = int(input(\"Enter the first number : \"))\n",
    "num2 = int(input(\"Enter the second number : \"))\n",
    "op = input(\"Enter the operation to perform : \")\n",
    "\n",
    "if(op=='+'):\n",
    "    ans = num1+num2\n",
    "elif(op=='-'):\n",
    "    ans = num1-num2\n",
    "elif(op=='*'):\n",
    "    ans = num1*num2\n",
    "elif(op=='/'):\n",
    "    ans = num1/num2\n",
    "else:\n",
    "    ans = num1%num2\n",
    "\n",
    "print(num1,op,num2,\" = \", ans)"
   ]
  },
  {
   "cell_type": "markdown",
   "id": "8c0058b8",
   "metadata": {},
   "source": [
    "# Loops"
   ]
  },
  {
   "cell_type": "code",
   "execution_count": 13,
   "id": "b4d478c2",
   "metadata": {},
   "outputs": [
    {
     "name": "stdout",
     "output_type": "stream",
     "text": [
      "1,2,3,4,5,6,7,8,9,10,11,12,13,14,15,16,17,18,19,20,"
     ]
    }
   ],
   "source": [
    "for i in range (1,21):\n",
    "    print(i, end = \",\")"
   ]
  },
  {
   "cell_type": "code",
   "execution_count": 14,
   "id": "c9ed0823",
   "metadata": {},
   "outputs": [
    {
     "name": "stdout",
     "output_type": "stream",
     "text": [
      "H\n",
      "o\n",
      "w\n",
      " \n",
      "d\n",
      "a\n",
      "r\n",
      "e\n",
      " \n",
      "y\n",
      "o\n",
      "u\n"
     ]
    }
   ],
   "source": [
    "string =\"How dare you\"\n",
    "for i in string:\n",
    "    print(i)"
   ]
  },
  {
   "cell_type": "code",
   "execution_count": 15,
   "id": "18bbc1a7",
   "metadata": {},
   "outputs": [
    {
     "name": "stdout",
     "output_type": "stream",
     "text": [
      "mango\n",
      "chocolate\n",
      "cake\n"
     ]
    }
   ],
   "source": [
    "list=[\"mango\", \"chocolate\",\"cake\"]\n",
    "for i in list:\n",
    "    print(i)"
   ]
  },
  {
   "cell_type": "code",
   "execution_count": 2,
   "id": "067b44a2",
   "metadata": {},
   "outputs": [
    {
     "name": "stdout",
     "output_type": "stream",
     "text": [
      "0\n",
      "1\n",
      "2\n",
      "3\n",
      "4\n",
      "5\n",
      "6\n",
      "7\n",
      "8\n",
      "9\n",
      "10\n",
      "11\n",
      "12\n",
      "13\n",
      "14\n",
      "15\n",
      "16\n",
      "17\n",
      "18\n",
      "19\n",
      "20\n",
      "21\n",
      "22\n",
      "23\n",
      "24\n",
      "25\n",
      "26\n",
      "27\n",
      "28\n",
      "29\n",
      "30\n",
      "31\n",
      "32\n",
      "33\n",
      "34\n",
      "35\n",
      "36\n",
      "37\n",
      "38\n",
      "39\n",
      "40\n"
     ]
    }
   ],
   "source": [
    "i = 0\n",
    "while(i<=40):\n",
    "    print(i)\n",
    "    i=i+1\n",
    "    "
   ]
  },
  {
   "cell_type": "raw",
   "id": "f37dbb06",
   "metadata": {},
   "source": [
    "Task : print even numbers from 0 to 40 with for and while loop"
   ]
  },
  {
   "cell_type": "code",
   "execution_count": 3,
   "id": "37c3b640",
   "metadata": {},
   "outputs": [
    {
     "name": "stdout",
     "output_type": "stream",
     "text": [
      "0\n",
      "2\n",
      "4\n",
      "6\n",
      "8\n",
      "10\n",
      "12\n",
      "14\n",
      "16\n",
      "18\n",
      "20\n",
      "22\n",
      "24\n",
      "26\n",
      "28\n",
      "30\n",
      "32\n",
      "34\n",
      "36\n",
      "38\n"
     ]
    }
   ],
   "source": [
    "for i in range (0,40):\n",
    "    if(i%2==0):\n",
    "        print(i)\n",
    "        \n"
   ]
  },
  {
   "cell_type": "code",
   "execution_count": 4,
   "id": "7564a270",
   "metadata": {},
   "outputs": [
    {
     "name": "stdout",
     "output_type": "stream",
     "text": [
      "0\n",
      "2\n",
      "4\n",
      "6\n",
      "8\n",
      "10\n",
      "12\n",
      "14\n",
      "16\n",
      "18\n",
      "20\n",
      "22\n",
      "24\n",
      "26\n",
      "28\n",
      "30\n",
      "32\n",
      "34\n",
      "36\n",
      "38\n",
      "40\n"
     ]
    }
   ],
   "source": [
    "i = 0\n",
    "while(i<=40):\n",
    "    print(i)\n",
    "    i=i+2"
   ]
  },
  {
   "cell_type": "raw",
   "id": "9e26d3bb",
   "metadata": {},
   "source": [
    "Break and Continue\n",
    "\n",
    "Break - terminates the loop if condition is met\n",
    "continue - actually skips some of the iterations in the loop and continues with next iteration"
   ]
  },
  {
   "cell_type": "markdown",
   "id": "c184e38b",
   "metadata": {},
   "source": [
    "# Functions"
   ]
  },
  {
   "cell_type": "raw",
   "id": "aec08ca0",
   "metadata": {},
   "source": [
    "Syntax def funcname():\n",
    "           statments"
   ]
  },
  {
   "cell_type": "code",
   "execution_count": 6,
   "id": "9b9198fc",
   "metadata": {},
   "outputs": [
    {
     "name": "stdout",
     "output_type": "stream",
     "text": [
      "Enter mark 1 : 30\n",
      "Enter mark 2 : 50\n",
      "80\n"
     ]
    }
   ],
   "source": [
    "def add(mark1, mark2):\n",
    "    d = mark1+mark2\n",
    "    print(d)\n",
    "    \n",
    "a=int(input(\"Enter mark 1 : \"))\n",
    "b=int(input(\"Enter mark 2 : \"))\n",
    "add(a,b)\n"
   ]
  },
  {
   "cell_type": "code",
   "execution_count": 8,
   "id": "8657f5f7",
   "metadata": {},
   "outputs": [
    {
     "name": "stdout",
     "output_type": "stream",
     "text": [
      "Enter mark 1 : 64\n",
      "Enter mark 2 : 35\n",
      "(99, 29)\n"
     ]
    }
   ],
   "source": [
    "def add(mark1, mark2):\n",
    "    d = mark1+mark2\n",
    "    f = mark1-mark2\n",
    "    return d,f\n",
    "    \n",
    "a=int(input(\"Enter mark 1 : \"))\n",
    "b=int(input(\"Enter mark 2 : \"))\n",
    "p,q = add(a,b) # can return multiple values and assign them to multiple var\n",
    "print(p,q)\n",
    "\n"
   ]
  },
  {
   "cell_type": "code",
   "execution_count": 9,
   "id": "babc2dfc",
   "metadata": {},
   "outputs": [
    {
     "name": "stdout",
     "output_type": "stream",
     "text": [
      "Enter mark 1 : 53\n",
      "Enter mark 2 : 23\n",
      "(76, 30)\n"
     ]
    }
   ],
   "source": [
    "def add(mark1, mark2):\n",
    "    d = mark1+mark2\n",
    "    f = mark1-mark2\n",
    "    return d,f\n",
    "    \n",
    "a=int(input(\"Enter mark 1 : \"))\n",
    "b=int(input(\"Enter mark 2 : \"))\n",
    "p= add(a,b) # if  multiple return values assigned to single var\n",
    "print(p)\n"
   ]
  },
  {
   "cell_type": "code",
   "execution_count": null,
   "id": "4d2885d0",
   "metadata": {},
   "outputs": [],
   "source": []
  }
 ],
 "metadata": {
  "kernelspec": {
   "display_name": "Python 3",
   "language": "python",
   "name": "python3"
  },
  "language_info": {
   "codemirror_mode": {
    "name": "ipython",
    "version": 3
   },
   "file_extension": ".py",
   "mimetype": "text/x-python",
   "name": "python",
   "nbconvert_exporter": "python",
   "pygments_lexer": "ipython3",
   "version": "3.8.8"
  }
 },
 "nbformat": 4,
 "nbformat_minor": 5
}
